{
 "cells": [
  {
   "cell_type": "markdown",
   "metadata": {},
   "source": [
    "# Feature Engineering\n",
    "\n",
    "Feature engineering is the practice of using mathematical transformations of raw input data to create new features to be used in an ML model. \n",
    "\n",
    "1. Dividing total dollar amount by total number of payments to get a ratio of dollars per payment\n",
    "2. Counting the occurence of a particular word across a text document\n",
    "3. Computing statistical summaries (mean, median, std deviation, skew) of a distribution of user ping times to assess network health\n",
    "4. Joining two tables (payments and support) using user id\n",
    "5. Applying sophisticated signal-processing tools to an image and summarizing their output (histogram of gradients)\n",
    "\n",
    "Some basic reasons for feature engineering include. \n",
    "\n",
    "Transform original data to relate to the target:\n",
    " To make the data look more like the target variable. \n",
    " \n",
    "Bring in external data sources:\n",
    "\n",
    "A good way to bring in 3rd party demographic data or outside info that would be helpful in a meaningful way.\n",
    "\n",
    "Use unstructured data sources\n",
    "\n",
    "Create features that are more easily interpreted\n",
    "\n",
    "##### Domain Expertise thought exercise\n",
    "\n",
    "To conceptualize feature engineering is a way to introduce domain expertise into a machine learning model. \n",
    "\n",
    "### Forward Selection\n",
    "\n",
    "\n",
    "### Backward Elimination\n",
    "\n"
   ]
  },
  {
   "cell_type": "code",
   "execution_count": null,
   "metadata": {
    "collapsed": true
   },
   "outputs": [],
   "source": []
  }
 ],
 "metadata": {
  "kernelspec": {
   "display_name": "Python 3",
   "language": "python",
   "name": "python3"
  },
  "language_info": {
   "codemirror_mode": {
    "name": "ipython",
    "version": 3
   },
   "file_extension": ".py",
   "mimetype": "text/x-python",
   "name": "python",
   "nbconvert_exporter": "python",
   "pygments_lexer": "ipython3",
   "version": "3.6.3"
  }
 },
 "nbformat": 4,
 "nbformat_minor": 2
}
