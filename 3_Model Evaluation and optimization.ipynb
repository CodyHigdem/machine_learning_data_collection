{
 "cells": [
  {
   "cell_type": "code",
   "execution_count": 11,
   "metadata": {},
   "outputs": [
    {
     "name": "stdout",
     "output_type": "stream",
     "text": [
      "Populating the interactive namespace from numpy and matplotlib\n"
     ]
    }
   ],
   "source": [
    "%pylab inline\n",
    "%matplotlib inline"
   ]
  },
  {
   "cell_type": "markdown",
   "metadata": {},
   "source": [
    "# Model Evaluation and optimization\n",
    "\n",
    "In the steps of machine learning you:\n",
    "1. take data\n",
    "2. build a model\n",
    "3. evaluate a model\n",
    "4. optimize it\n",
    "5. rebuild if needed\n",
    "Then lookst at new data and the prediction\n",
    "\n",
    "### Accuracy\n",
    "\n",
    "Usually the main goal is to make accurate predictions. One measure of performance on a model is how well tha t5model will perform on new data. \n",
    "\n",
    "#### Overfitting & model optimism\n",
    "\n",
    "#### Cross-validation\n",
    "\n",
    "holdout method because a random subset of the training data is held out from the training process. So you use a training subset to fit the model and only the testing subset to evaluate the accuracy of the model. \n",
    "\n",
    "Leave out 20 - 40$ of the data as the testing subset. \n",
    "\n"
   ]
  },
  {
   "cell_type": "code",
   "execution_count": 12,
   "metadata": {
    "collapsed": true
   },
   "outputs": [],
   "source": [
    "#make up some data\n",
    "features = rand(100,5)\n",
    "target = rand(100) > 0.5"
   ]
  },
  {
   "cell_type": "code",
   "execution_count": 13,
   "metadata": {},
   "outputs": [
    {
     "name": "stdout",
     "output_type": "stream",
     "text": [
      "100\n",
      "70\n"
     ]
    }
   ],
   "source": [
    "#holdout method\n",
    "N = features.shape[0]\n",
    "print(N)\n",
    "N_train = int(floor(0.7 * N))\n",
    "print(N_train)\n",
    "#do this step if you want to randomize the index\n",
    "idx = random.permutation(N)\n"
   ]
  },
  {
   "cell_type": "code",
   "execution_count": 14,
   "metadata": {
    "collapsed": true,
    "scrolled": true
   },
   "outputs": [],
   "source": [
    "#split to training/test\n",
    "idx_train = idx[:N_train]\n",
    "idx_test = idx[N_train:]"
   ]
  },
  {
   "cell_type": "code",
   "execution_count": 15,
   "metadata": {
    "collapsed": true
   },
   "outputs": [],
   "source": [
    "#split into subsets\n",
    "features_train = features[idx_train,:]\n",
    "target_train = target[idx_train]\n",
    "features_test = features[idx_test,:]\n",
    "target_test = target[idx_test]\n",
    "\n",
    "#Then do rest of the machine learning stuff i.e.\n",
    "#model = train(features_train, target_train)\n",
    "#preds_test = predict(model, features_test)\n",
    "#accuracy = evaluate_accuracy(preds_test, target_test)"
   ]
  },
  {
   "cell_type": "markdown",
   "metadata": {},
   "source": [
    "#### k-fold cross-validation\n",
    "\n",
    "just like holdout you have to split subsets of training data during the learning process. The difference is k-old begins by randomly splitting the data into k disjoint subsets, called folds. Typically (5, 10, 20)\n",
    "\n",
    "The predictions are aggregated after all the cycles have been completed. "
   ]
  },
  {
   "cell_type": "code",
   "execution_count": 16,
   "metadata": {
    "collapsed": true
   },
   "outputs": [],
   "source": [
    "#examle\n",
    "N = features.shape[0]\n",
    "K = 10 #number of folds you want\n",
    "\n",
    "preds_kfold = np.empty(N)\n",
    "folds = np.random.randint(0, K, size=N)"
   ]
  },
  {
   "cell_type": "code",
   "execution_count": 17,
   "metadata": {},
   "outputs": [
    {
     "name": "stdout",
     "output_type": "stream",
     "text": [
      "[ 0  8 11 22 24 54 63 69 71 82]\n",
      "[ 7 19 29 39 44 47 49 51 57 76]\n",
      "[21 25 42 45 56 65 85]\n",
      "[15 27 31 40 41 53 61 67]\n",
      "[ 2 10 17 38 43 70 84 87 98]\n",
      "[33 58 59 62 64 66 74 83 88 89 91 94 95]\n",
      "[ 4 12 16 20 52 68 73 77 80]\n",
      "[ 3 14 32 34 60 72 81 86 90 99]\n",
      "[ 1  5  6 26 30 46 48 50 55 75]\n",
      "[ 9 13 18 23 28 35 36 37 78 79 92 93 96 97]\n"
     ]
    }
   ],
   "source": [
    "for idx in np.arange(K):\n",
    "    #each fold break the data into training and testin gsubsets\n",
    "    features_train = features[folds != idx, :]\n",
    "    target_train = target[folds != idx]\n",
    "    features_test = features[folds == idx, :]\n",
    "    \n",
    "    print(nonzero(folds == idx)[0])\n",
    "    \n",
    "    #build and predict\n",
    "    #model = train(features_train, target_train)\n",
    "    #preds_kfold[folds == idx] = predict(model, features_test)\n",
    "#accuracy = evaluate_acc(preds_kfold, target)"
   ]
  },
  {
   "cell_type": "markdown",
   "metadata": {},
   "source": [
    "#### Cross-validation\n",
    "\n",
    "Gives you a way to estimate how accurately your ML models will predict when deployed in the wild. Things to look out for\n",
    "\n",
    "1. CV methods assume that the training data forms a representative smaple from the population of interest. If you plan to deploy te modle to predict on new data, that data should be well represented by the training data. if not, the cross-validation error estimates may be overly optimistic for the error rates on future data. Solution: Ensure that any potential biases in the training data are addressed and minimized. \n",
    "2. Some datasets use features that are temporal-- for instance, using last month's revenue to forecast this month's revenue. If this is the case with your data, you must ensure that features that are available in the future can never be used to predict the past. Solution: you can structure your cross-validation holdout set or k-folds so that all the training set data is collected previous to the testing set. \n",
    "The larger the number of folds used in k-fold the better the error estimates will be, but the longer your program will take to run. Solution: use at least 10 folds (or more) when you can. For modles that train and predict quickly, you can use leave-one-out CV (k = number of data instances)\n",
    "\n",
    "#### Confusion-Matrix\n",
    "\n",
    "When checking accuracy of aclassifier it may be a good estimate of accuracy by getting a percentage of items classified properly BY class. A confusion matrix could help visualize this. \n",
    "\n",
    "i.e. \n",
    "\n",
    "2/3 correct as 1\n",
    "1 of 1 correct as 0\n",
    "1 of 3 false as 0\n",
    "0 of 1 false as 1\n",
    "\n",
    "This then shows the class wide accuracy between ture positive rate, false positive rate, false negative rate and true negative rate. \n",
    "\n",
    "#### ROC curves\n",
    "receiver operating characteristics"
   ]
  },
  {
   "cell_type": "code",
   "execution_count": 30,
   "metadata": {
    "collapsed": true
   },
   "outputs": [],
   "source": [
    "#roc curve\n",
    "def roc_curve(true_labels, predicted_probs, n_points=100, pos_class=1):\n",
    "    thr = np.linspace(0,1, n_points)\n",
    "    tpr = zeros(n_points)\n",
    "    fpr = zeros(n_points)\n",
    "    \n",
    "    pos = true_labels == pos_class\n",
    "    neg = logical_not(pos)\n",
    "    n_pos = count_nonzero(pos)\n",
    "    n_neg = count_nonzero(neg)\n",
    "    \n",
    "    for i, t in enumerate(thr):\n",
    "        tpr[i] = count_nonzero(logical_and(predicted_probs >= t, pos)) / n_pos\n",
    "        fpr[i] = count_nonzero(logical_and(predicted_probs >= t, neg)) / n_neg\n",
    "    return fpr, tpr, thr"
   ]
  },
  {
   "cell_type": "code",
   "execution_count": 31,
   "metadata": {},
   "outputs": [
    {
     "data": {
      "text/plain": [
       "[<matplotlib.lines.Line2D at 0x1944d2505c0>]"
      ]
     },
     "execution_count": 31,
     "metadata": {},
     "output_type": "execute_result"
    },
    {
     "data": {
      "image/png": "[encoded data removed]",
      "text/plain": [
       "<matplotlib.figure.Figure at 0x1944d0a7c18>"
      ]
     },
     "metadata": {},
     "output_type": "display_data"
    }
   ],
   "source": [
    "#rando generated predictions should give us a roc curve\n",
    "preds = rand(len(target))\n",
    "fpr, tpr, thr = roc_curve(target, preds, pos_class=True)\n",
    "plot(fpr, tpr)"
   ]
  },
  {
   "cell_type": "code",
   "execution_count": null,
   "metadata": {
    "collapsed": true
   },
   "outputs": [],
   "source": []
  }
 ],
 "metadata": {
  "kernelspec": {
   "display_name": "Python 3",
   "language": "python",
   "name": "python3"
  },
  "language_info": {
   "codemirror_mode": {
    "name": "ipython",
    "version": 3
   },
   "file_extension": ".py",
   "mimetype": "text/x-python",
   "name": "python",
   "nbconvert_exporter": "python",
   "pygments_lexer": "ipython3",
   "version": "3.6.3"
  }
 },
 "nbformat": 4,
 "nbformat_minor": 2
}
