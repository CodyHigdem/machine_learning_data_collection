{
 "cells": [
  {
   "cell_type": "code",
   "execution_count": 1,
   "metadata": {},
   "outputs": [
    {
     "name": "stdout",
     "output_type": "stream",
     "text": [
      "Populating the interactive namespace from numpy and matplotlib\n"
     ]
    }
   ],
   "source": [
    "%pylab inline"
   ]
  },
  {
   "cell_type": "markdown",
   "metadata": {},
   "source": [
    "# Model Evaluation and optimization\n",
    "\n",
    "In the steps of machine learning you:\n",
    "1. take data\n",
    "2. build a model\n",
    "3. evaluate a model\n",
    "4. optimize it\n",
    "5. rebuild if needed\n",
    "Then lookst at new data and the prediction\n",
    "\n",
    "### Accuracy\n",
    "\n",
    "Usually the main goal is to make accurate predictions. One measure of performance on a model is how well tha t5model will perform on new data. \n",
    "\n",
    "#### Overfitting & model optimism\n",
    "\n",
    "#### Cross-validation\n",
    "\n",
    "holdout method because a random subset of the training data is held out from the training process. So you use a training subset to fit the model and only the testing subset to evaluate the accuracy of the model. \n",
    "\n",
    "Leave out 20 - 40$ of the data as the testing subset. \n",
    "\n"
   ]
  },
  {
   "cell_type": "code",
   "execution_count": 2,
   "metadata": {
    "collapsed": true
   },
   "outputs": [],
   "source": [
    "#make up some data\n",
    "features = rand(100,5)\n",
    "target = rand(100) > 0.5"
   ]
  },
  {
   "cell_type": "code",
   "execution_count": 10,
   "metadata": {},
   "outputs": [
    {
     "name": "stdout",
     "output_type": "stream",
     "text": [
      "100\n",
      "70\n"
     ]
    }
   ],
   "source": [
    "#holdout method\n",
    "N = features.shape[0]\n",
    "print(N)\n",
    "N_train = int(floor(0.7 * N))\n",
    "print(N_train)\n",
    "#do this step if you want to randomize the index\n",
    "idx = random.permutation(N)\n"
   ]
  },
  {
   "cell_type": "code",
   "execution_count": 13,
   "metadata": {
    "scrolled": true
   },
   "outputs": [],
   "source": [
    "#split to training/test\n",
    "idx_train = idx[:N_train]\n",
    "idx_test = idx[N_train:]"
   ]
  },
  {
   "cell_type": "code",
   "execution_count": 16,
   "metadata": {
    "collapsed": true
   },
   "outputs": [],
   "source": [
    "#split into subsets\n",
    "features_train = features[idx_train,:]\n",
    "target_train = target[idx_train]\n",
    "features_test = features[idx_test,:]\n",
    "target_test = target[idx_test]\n",
    "\n",
    "#Then do rest of the machine learning stuff i.e.\n",
    "#model = train(features_train, target_train)\n",
    "#preds_test = predict(model, features_test)\n",
    "#accuracy = evaluate_accuracy(preds_test, target_test)"
   ]
  },
  {
   "cell_type": "code",
   "execution_count": null,
   "metadata": {
    "collapsed": true
   },
   "outputs": [],
   "source": []
  }
 ],
 "metadata": {
  "kernelspec": {
   "display_name": "Python 3",
   "language": "python",
   "name": "python3"
  },
  "language_info": {
   "codemirror_mode": {
    "name": "ipython",
    "version": 3
   },
   "file_extension": ".py",
   "mimetype": "text/x-python",
   "name": "python",
   "nbconvert_exporter": "python",
   "pygments_lexer": "ipython3",
   "version": "3.6.3"
  }
 },
 "nbformat": 4,
 "nbformat_minor": 2
}
