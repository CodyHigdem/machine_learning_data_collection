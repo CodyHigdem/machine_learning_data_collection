{
 "cells": [
  {
   "cell_type": "code",
   "execution_count": 1,
   "metadata": {},
   "outputs": [
    {
     "name": "stdout",
     "output_type": "stream",
     "text": [
      "Populating the interactive namespace from numpy and matplotlib\n"
     ]
    }
   ],
   "source": [
    "%pylab inline"
   ]
  },
  {
   "cell_type": "markdown",
   "metadata": {},
   "source": [
    "# Model Evaluation and optimization\n",
    "\n",
    "In the steps of machine learning you:\n",
    "1. take data\n",
    "2. build a model\n",
    "3. evaluate a model\n",
    "4. optimize it\n",
    "5. rebuild if needed\n",
    "Then lookst at new data and the prediction\n",
    "\n",
    "### Accuracy\n",
    "\n",
    "Usually the main goal is to make accurate predictions. One measure of performance on a model is how well tha t5model will perform on new data. \n",
    "\n",
    "#### Overfitting & model optimism\n",
    "\n",
    "#### Cross-validation\n",
    "\n",
    "holdout method because a random subset of the training data is held out from the training process. So you use a training subset to fit the model and only the testing subset to evaluate the accuracy of the model. \n",
    "\n",
    "Leave out 20 - 40$ of the data as the testing subset. \n",
    "\n"
   ]
  },
  {
   "cell_type": "code",
   "execution_count": 2,
   "metadata": {
    "collapsed": true
   },
   "outputs": [],
   "source": [
    "#make up some data\n",
    "features = rand(100,5)\n",
    "target = rand(100) > 0.5"
   ]
  },
  {
   "cell_type": "code",
   "execution_count": null,
   "metadata": {
    "collapsed": true
   },
   "outputs": [],
   "source": [
    "#holdout method\n",
    "N = features.shape[0]\n",
    "N_train = floor(0.7 * N)\n",
    "\n"
   ]
  }
 ],
 "metadata": {
  "kernelspec": {
   "display_name": "Python 3",
   "language": "python",
   "name": "python3"
  },
  "language_info": {
   "codemirror_mode": {
    "name": "ipython",
    "version": 3
   },
   "file_extension": ".py",
   "mimetype": "text/x-python",
   "name": "python",
   "nbconvert_exporter": "python",
   "pygments_lexer": "ipython3",
   "version": "3.6.3"
  }
 },
 "nbformat": 4,
 "nbformat_minor": 2
}
